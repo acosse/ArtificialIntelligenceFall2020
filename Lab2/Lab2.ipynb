{
 "cells": [
  {
   "cell_type": "markdown",
   "metadata": {},
   "source": [
    "## AI Lab II: Search Methods and Search Agents"
   ]
  },
  {
   "cell_type": "markdown",
   "metadata": {},
   "source": [
    "### Exercise 1. Escaping from Mazes"
   ]
  },
  {
   "cell_type": "markdown",
   "metadata": {},
   "source": [
    "#### Exercise 1.1 \n",
    "\n",
    "Consider the maze shown below. The yellow cells represent the walls. We want to find the way from node $A$ located in cell (0,7) (bottom left) to $B$ located in cell (8,0) (top right). Implement a Depth First Search that would escape from the maze and reach position $B$. Start by building the graph corresponding to the feasible paths (i.e. connecting the blue cells). Then implement DFS and apply it, starting with $A$ as your root node.\n",
    "\n",
    "You may want to implement functions ind2num and ind2num to go back and forth between the number of the cell and its position on the grid. "
   ]
  },
  {
   "cell_type": "code",
   "execution_count": 58,
   "metadata": {},
   "outputs": [
    {
     "data": {
      "image/png": "[encoded data removed]",
      "text/plain": [
       "<Figure size 432x288 with 1 Axes>"
      ]
     },
     "metadata": {},
     "output_type": "display_data"
    }
   ],
   "source": [
    "import scipy.io as sio\n",
    "import matplotlib.pyplot as plt\n",
    "\n",
    "Maze = sio.loadmat('MazeMat.mat')['MazeMat']\n",
    "plt.imshow(Maze)\n",
    "plt.show()\n"
   ]
  },
  {
   "cell_type": "code",
   "execution_count": null,
   "metadata": {
    "collapsed": true
   },
   "outputs": [],
   "source": [
    "# put your code here\n",
    "\n"
   ]
  },
  {
   "cell_type": "markdown",
   "metadata": {},
   "source": [
    "#### Exercise 1.2 Repeat the exercise with Breadth First Search "
   ]
  },
  {
   "cell_type": "code",
   "execution_count": null,
   "metadata": {
    "collapsed": true
   },
   "outputs": [],
   "source": [
    "# put your code here \n",
    "\n",
    "\n",
    "\n"
   ]
  },
  {
   "cell_type": "markdown",
   "metadata": {},
   "source": [
    "#### Exercise 1.3 Informed escape.\n",
    "\n",
    "We now want to implement an informed search method. Code the A$^*$ search algorithm using as your heuristic the distance as the crow flies between the current node and the objective node. "
   ]
  },
  {
   "cell_type": "code",
   "execution_count": null,
   "metadata": {
    "collapsed": true
   },
   "outputs": [],
   "source": [
    "# put your code here\n",
    "\n"
   ]
  },
  {
   "cell_type": "markdown",
   "metadata": {},
   "source": [
    "#### Exercise 1.4 \n",
    "\n",
    "Test your algorithms on the Maze below. Starting from the yellow square and trying of reach the exit (light blue)."
   ]
  },
  {
   "cell_type": "code",
   "execution_count": 60,
   "metadata": {},
   "outputs": [
    {
     "data": {
      "image/png": "[encoded data removed]",
      "text/plain": [
       "<Figure size 432x288 with 1 Axes>"
      ]
     },
     "metadata": {},
     "output_type": "display_data"
    }
   ],
   "source": [
    "import scipy.io as sio\n",
    "import matplotlib.pyplot as plt\n",
    "\n",
    "Maze2 = sio.loadmat('mazeImage.mat')['mazeImage']\n",
    "plt.imshow(Maze2)\n",
    "plt.show()"
   ]
  },
  {
   "cell_type": "markdown",
   "metadata": {},
   "source": [
    "#### Exercise 1.5. From Escaping to Generating\n",
    "\n",
    "Depth First Search can actually be used to generate mazes. Follow the steps below to generate your own map.\n",
    "\n",
    "1. Choose the initial cell, mark it as visited and push it to the stack\n",
    "2. While the stack is not empty:\n",
    "\n",
    "    1. Pop a cell from the stack and make it a current cell\n",
    "    2. If the current cell has any neighbours which have not been visited Push the current        cell to the stack Choose one of the unvisited neighbours\n",
    "    3. Remove the wall between the current cell and the chosen cell\n",
    "    4. Mark the chosen cell as visited and push it to the stack\n"
   ]
  },
  {
   "cell_type": "code",
   "execution_count": null,
   "metadata": {
    "collapsed": true
   },
   "outputs": [],
   "source": [
    "def MazeGeneration(n):\n",
    "    \n",
    "    '''the function should take as input the size of the maze and should return  \n",
    "    a starting point (location of PACMAN, P in yellow), an exit \n",
    "    location (E in light blue as above) and a binary image of the maze '''\n",
    "   \n",
    "\n",
    "\n",
    "    return Maze, P, E \n"
   ]
  },
  {
   "cell_type": "markdown",
   "metadata": {},
   "source": [
    "#### Exercise 1.6. Bidirectional Maze Generation\n",
    "\n",
    "Once you are done with 1.4., try to implement a Maze generating function that takes an input a \n",
    "PacMan location, an exit location, and a size parameter and return the binary image of the maze. (hint: use the bidirectional search approach)"
   ]
  },
  {
   "cell_type": "code",
   "execution_count": null,
   "metadata": {
    "collapsed": true
   },
   "outputs": [],
   "source": [
    "def Bidirectional_MazeGeneration(n, P, E):\n",
    "    \n",
    "        '''The function should take as input a starting point ('Pacman location'), \n",
    "        an Exit location 'E' and should return the image/map of the maze'''\n",
    "    \n",
    "    \n",
    "    \n",
    "    \n",
    "    return Maze\n"
   ]
  },
  {
   "cell_type": "markdown",
   "metadata": {},
   "source": [
    "### Exercise 2. Improving our environment"
   ]
  },
  {
   "cell_type": "markdown",
   "metadata": {},
   "source": [
    "#### Exercise 2.1. A maze escaping agent \n",
    "\n",
    "Now that you are comfortable with Search methods, Maze and object oriented programming, we want to combine the tools to define a basic search agent. \n",
    "\n",
    "The Escape Agent will inherit from the class Agent. It should have an initialization function which takes as argument the search method (as a string) that it is going to use to escape the maze. The list of possible inputs should include 'BFS', 'DFS', 'Astar', 'BF'. It should also contain an argument indicating the problem we want to solve (for the moment the only value this argument should take is 'escape'). Finally, for the informed search methods, it should contain the name of the heuristic used. We will consider two  heuristics which you should define as separate functions (outside the class):\n",
    "\n",
    "- The Manhattan distance. In this case, we will compute the estimated distance between our current state $(x_1, y_1)$ and the goal state $(x^*, y^*)$ through the so-called Manhattan distance\n",
    "$$|x_1 - x^*| + |y_1 - y^*|$$\n",
    " \n",
    "- The Euclidean distance. In this case, we will estimate the distance between our current state $(x_1, y_1)$ and the goal state $(x^*, y^*)$ through the Eulidean distance\n",
    "$$\\sqrt{|x_1 - x^*|^2 + |y_1 - y^*|^2}$$\n",
    "\n",
    "The Agent should also contain a function 'program' which takes as input the state of the environment (current position + list of admissible neighbors)\n",
    "\n",
    "\n",
    "The Maze environment should contain an initialization function which generates a random maze. This environment should also contain a function 'get_nextState' which for any given state returns the possible neighbors of that state. The 'program' function of the agent will then choose its next move among those states (possibly with the heuristic function).\n",
    "\n",
    "In this first exercise, the Agent should keep track of a list of actions (generated when the original state is given. At each step, it should then take its next action from the list)"
   ]
  },
  {
   "cell_type": "code",
   "execution_count": null,
   "metadata": {
    "collapsed": true
   },
   "outputs": [],
   "source": [
    "class Agent:\n",
    "'''Class should contain basic parameters common to all the agents'''    \n",
    "    \n",
    "    def __init__(self, program=None):\n",
    "        \n",
    "            self.actions = [] # should contain the list of actions as \n",
    "                              # returned by the search algorithm\n",
    "\n",
    "\n",
    "class EscapeAgent(Agent):\n",
    "    \n",
    "    '''The Escape Agent'''\n",
    "    \n",
    "    def __init__(self, SearchFun = 'DFS', problem = 'escape', heuristic = None):\n",
    "        \n",
    "        '''Function should initilize the agent with a Search Method and possible heuristic'''\n",
    "        self.searchMethod = SearchFun\n",
    "        \n",
    "    \n",
    "    def generateActions(self, initialState):\n",
    "        \n",
    "        # Apply the Search Method \n",
    "    \n",
    "        \n",
    "        return self.actions\n",
    "    \n",
    "    def program(self, state):\n",
    "        \n",
    "        \n",
    "        return self.actions[0]\n",
    "\n",
    "\n",
    "class MazeEnvironment:\n",
    "    \n",
    "    def __init__(self):\n",
    "        \n",
    "        self.agents = [] # should keep a list of agents\n",
    "        \n",
    "    def get_nextStates(self, state):\n",
    "        \n",
    "        '''Function should generate the neighboring states. \n",
    "        This function will be used later when adding other elements in the maze'''\n",
    "        \n",
    "    \n",
    "    \n",
    "    def step():\n",
    "        '''enable the agent to move one step: Take action from list of actions \n",
    "        and modify state of the environment'''\n",
    "    \n",
    "    \n",
    "    def addSearchAgent():\n",
    "    \n",
    "    "
   ]
  },
  {
   "cell_type": "markdown",
   "metadata": {
    "collapsed": true
   },
   "source": [
    "#### Exercise 2.2. Testing\n",
    "\n",
    "Run your agent on various mazes generated through the environment and display the path followed by your agent"
   ]
  },
  {
   "cell_type": "code",
   "execution_count": null,
   "metadata": {
    "collapsed": true
   },
   "outputs": [],
   "source": [
    "# put your code here\n",
    "\n",
    "maxStep = # choose a number of steps\n",
    "\n",
    "for step in range(0,maxStep):\n",
    "\n",
    "    MazeEnvironment.step()\n",
    "  "
   ]
  },
  {
   "cell_type": "markdown",
   "metadata": {},
   "source": [
    "#### Exercise 2.3. Food\n",
    "\n",
    "We now want to improve the environment. The first improvement we will consider are food pellets. Those should be represented by green pixels on the path of the agent. The Food Agent should inherit all the search methods from the class SearchAgent but now, each time it found a food pellet, it should recompute the path to the next pellet. \n",
    "\n",
    "The MazeEnvironment_withFood class should thus encode the location of the food pellets and update the list of locations whenever the agents captured one of the pellets. "
   ]
  },
  {
   "cell_type": "code",
   "execution_count": null,
   "metadata": {
    "collapsed": true
   },
   "outputs": [],
   "source": [
    "\n",
    "class FoodAgent(SearchAgent):\n",
    "'''Class should contain basic parameters common to all the agents'''    \n",
    "    \n",
    "    def __init__(self, program=None):\n",
    "        \n",
    "        \n",
    "class MazeEnvironment_withFood:\n",
    "    \n",
    "    \n",
    "    self.status = [] # should be updated when \n",
    "    \n",
    "    \n",
    "    def __init__(self):\n",
    "        \n",
    "            '''should generate a maze with a few food pellets located on the path'''\n",
    "        \n",
    "        \n",
    "        \n",
    "    def get_nextStates(self, state):\n",
    "        \n",
    "        '''should return the neighbors of the current state'''\n",
    "        \n",
    "    \n",
    "    \n",
    "    def step():\n",
    "    \n",
    "    \n",
    "    def addSearchAgent():\n",
    "    "
   ]
  },
  {
   "cell_type": "markdown",
   "metadata": {},
   "source": [
    "#### Exercise 2.3. Ghosts.\n",
    "\n",
    "A ghost is an additional (fixed) position on the path. When the agent notices it, it should backtrack and look for another path that avoids this ghost."
   ]
  },
  {
   "cell_type": "code",
   "execution_count": null,
   "metadata": {
    "collapsed": true
   },
   "outputs": [],
   "source": [
    "\n",
    "\n",
    "\n",
    "class Ghost:\n",
    "'''Class should contain '''    \n",
    "    \n",
    "    def __init__(self, position):\n",
    "        \n",
    "        self.position = position\n",
    "        \n",
    "        \n",
    "        \n",
    "class MazeEnvironment_withFood_and_Ghosts:\n",
    "    \n",
    "    \n",
    "    self.status = [] # should be updated when \n",
    "    \n",
    "    \n",
    "    \n",
    "    def __init__(self):\n",
    "        \n",
    "            '''should generate a maze with a few food pellets and ghosts'''\n",
    "        \n",
    "        \n",
    "        \n",
    "    def get_nextStates(self, state):\n",
    "        \n",
    "        '''should return the neighbors of the current state'''\n",
    "        \n",
    "    \n",
    "    \n",
    "    \n",
    "    def step():\n",
    "    \n",
    "    \n",
    "    def addSearchAgent():\n",
    "    "
   ]
  },
  {
   "cell_type": "markdown",
   "metadata": {},
   "source": [
    "#### Exercise 2.4. \n",
    "\n",
    "Once you have successfully coded the fixed ghost framework, try to enable the ghosts to move throughout the maze. Concretely, this means you now update the position of the ghost at random (following from the set of connected neighbors). Note that a ghost can be located on top of a pellet. Only one of the two will be visible (except if you improve the display). Just keep track of both positions.   "
   ]
  },
  {
   "cell_type": "code",
   "execution_count": null,
   "metadata": {
    "collapsed": true
   },
   "outputs": [],
   "source": [
    "class MazeEnvironment_withFood_and_MovingGhosts:\n",
    "    \n",
    "    \n",
    "    self.status = [] # should be updated when \n",
    "    \n",
    "    \n",
    "    \n",
    "    def __init__(self):\n",
    "        \n",
    "            '''should generate a maze with a few food pellets and ghosts'''\n",
    "        \n",
    "        \n",
    "        \n",
    "    def get_nextStates(self, state):\n",
    "        \n",
    "        '''should return the neighbors of the current state'''\n",
    "        \n",
    "    \n",
    "    \n",
    "    \n",
    "    def step():\n",
    "    \n",
    "        self.status = # update the positions of the ghosts \n",
    "        \n",
    "    \n",
    "    def addSearchAgent():\n",
    "    "
   ]
  },
  {
   "cell_type": "markdown",
   "metadata": {},
   "source": [
    "#### Exercise 2.5. Visualization \n",
    "\n",
    "Update the environement of your choice to keep track of a list each frame. One possibility is for the function step to return the current frame. Then use matplotlib animation API (or any other movie generating library) to generate the movie of your agent's escape.  "
   ]
  },
  {
   "cell_type": "code",
   "execution_count": null,
   "metadata": {
    "collapsed": true
   },
   "outputs": [],
   "source": [
    "import numpy as np\n",
    "import matplotlib.pyplot as plt\n",
    "import matplotlib.animation as animation\n",
    "\n",
    "\n",
    "# put your code here \n"
   ]
  }
 ],
 "metadata": {
  "kernelspec": {
   "display_name": "Python 2",
   "language": "python",
   "name": "python2"
  },
  "language_info": {
   "codemirror_mode": {
    "name": "ipython",
    "version": 2
   },
   "file_extension": ".py",
   "mimetype": "text/x-python",
   "name": "python",
   "nbconvert_exporter": "python",
   "pygments_lexer": "ipython2",
   "version": "2.7.13"
  }
 },
 "nbformat": 4,
 "nbformat_minor": 2
}
