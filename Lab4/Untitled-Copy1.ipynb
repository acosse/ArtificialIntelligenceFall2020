{
 "cells": [
  {
   "cell_type": "code",
   "execution_count": null,
   "metadata": {
    "collapsed": true
   },
   "outputs": [],
   "source": [
    "###\n"
   ]
  },
  {
   "cell_type": "code",
   "execution_count": null,
   "metadata": {
    "collapsed": true
   },
   "outputs": [],
   "source": []
  },
  {
   "cell_type": "code",
   "execution_count": null,
   "metadata": {
    "collapsed": true
   },
   "outputs": [],
   "source": [
    "__Exercise I.__ Conjunctions and disjunctions. Start by implementing a simple function \n",
    "str2Boolean that takes a str\n"
   ]
  },
  {
   "cell_type": "code",
   "execution_count": null,
   "metadata": {
    "collapsed": true
   },
   "outputs": [],
   "source": [
    "def LogicalOr:\n",
    "    \n",
    "    def __init__(self, arg1, arg2):\n",
    "        \n",
    "        self.arg1 = arg1\n",
    "        self.arg2 = arg2\n",
    "        \n",
    "        \n",
    "    def strRepresentation():\n",
    "        \n",
    "        '''complete'''\n",
    "        \n",
    "def LogicalAnd:\n",
    "    \n",
    "\n",
    "    def __init__(self,arg1, arg2):\n",
    "        \n",
    "        self.arg1 = arg1\n",
    "        self.arg2 = arg2\n",
    "        \n",
    "    def strRepresentation():\n",
    "        "
   ]
  },
  {
   "cell_type": "code",
   "execution_count": null,
   "metadata": {
    "collapsed": true
   },
   "outputs": [],
   "source": [
    "__Exercise II.__ Extend the two classes above and include the implication, equivalence and the negation"
   ]
  },
  {
   "cell_type": "code",
   "execution_count": null,
   "metadata": {
    "collapsed": true
   },
   "outputs": [],
   "source": [
    "def LogicalNot:\n",
    "    \n",
    "    def __init__(self, arg1):\n",
    "        \n",
    "        self.arg1 = arg1        \n",
    "        \n",
    "    def strRepresentation():\n",
    "        \n",
    "        '''complete'''\n",
    "        \n",
    "def LogicalEquivalence:\n",
    "    \n",
    "\n",
    "    def __init__(self,arg1, arg2):\n",
    "        \n",
    "        self.arg1 = arg1\n",
    "        self.arg2 = arg2\n",
    "        \n",
    "    def strRepresentation():\n",
    "        \n",
    "\n",
    "def LogicalImplication:\n",
    "    \n",
    "    def __init__(self, arg1, arg2):\n",
    "        \n",
    "        self.arg1 = arg1\n",
    "        self.arg2 = arg2\n",
    "        \n",
    "        \n",
    "    def strRepresentation():\n",
    "        \n",
    "        '''complete'''\n",
    "        \n",
    "def LogicalEquivalence:\n",
    "    \n",
    "\n",
    "    def __init__(self,arg1, arg2):\n",
    "        \n",
    "        self.arg1 = arg1\n",
    "        self.arg2 = arg2\n",
    "        \n",
    "    def strRepresentation():\n",
    "        "
   ]
  },
  {
   "cell_type": "code",
   "execution_count": null,
   "metadata": {
    "collapsed": true
   },
   "outputs": [],
   "source": [
    "Exercise "
   ]
  }
 ],
 "metadata": {
  "kernelspec": {
   "display_name": "Python 2",
   "language": "python",
   "name": "python2"
  },
  "language_info": {
   "codemirror_mode": {
    "name": "ipython",
    "version": 2
   },
   "file_extension": ".py",
   "mimetype": "text/x-python",
   "name": "python",
   "nbconvert_exporter": "python",
   "pygments_lexer": "ipython2",
   "version": "2.7.13"
  }
 },
 "nbformat": 4,
 "nbformat_minor": 2
}
