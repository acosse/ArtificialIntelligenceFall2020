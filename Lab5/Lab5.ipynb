{
 "cells": [
  {
   "cell_type": "markdown",
   "metadata": {},
   "source": [
    "## Artificial intelligence, Lab 5\n",
    "\n",
    "### Learning (Part I) and Logical Reasoning (Part II/FOL)\n",
    "\n",
    "This session reviews concepts from the learning part of the course. The students who are taking ML and AI jointly can work on the FOL exercises at the end of the session.  "
   ]
  },
  {
   "cell_type": "markdown",
   "metadata": {},
   "source": [
    "### Exercise 1. Shipwreck and Decision Trees. \n",
    "\n",
    "<img src=\"titanic.jpg\" width=400 height=400 />\n",
    "\n",
    "We want to predict the survival chance of a passenger on a large ship. Go to kaggle and load the [titanic dataset](https://www.kaggle.com/c/titanic). \n",
    "\n",
    "start by splitting the dataset into a training and a test part. Then select a subset of the feature and learn a decision tree. You might want to merge some of the categories (i.e. if a variable can take 100 values, merge those values into bins $a<x<a', a'<x<a''$). "
   ]
  },
  {
   "cell_type": "code",
   "execution_count": null,
   "metadata": {
    "collapsed": true
   },
   "outputs": [],
   "source": [
    "import numpy as np\n",
    "from sklearn.model_selection import train_test_split\n",
    "\n",
    "# split the dataset, keeping approximately 10% of the data in the test set\n",
    "\n",
    "\n",
    "\n"
   ]
  },
  {
   "cell_type": "markdown",
   "metadata": {
    "collapsed": true
   },
   "source": [
    "### Exercise 2. A simple linear regression\n",
    "\n",
    "Consider the data below which was generated from a polynomial of degree $3$. Learn linear regression models on the $(x, y)$ dataset with maximal degrees $1$ to $5$. For each of those models, compute the error on the training set. Then generate new points to create a validation set and compute the prediction error on this new set. Plot both errors as a function of the model complexity (i.e. maximal degree). "
   ]
  },
  {
   "cell_type": "code",
   "execution_count": 16,
   "metadata": {},
   "outputs": [
    {
     "data": {
      "image/png": "[encoded data removed]",
      "text/plain": [
       "<Figure size 432x288 with 1 Axes>"
      ]
     },
     "metadata": {},
     "output_type": "display_data"
    }
   ],
   "source": [
    "import numpy as np\n",
    "import matplotlib.pyplot as plt\n",
    "\n",
    "x = np.linspace(0,1,10)\n",
    "\n",
    "y = x**3 + 2*x**2 + x +1\n",
    "epsilon = np.random.normal(0,.4,10)\n",
    "\n",
    "ynoisy = y+epsilon\n",
    "\n",
    "plt.plot(x, y)\n",
    "plt.scatter(x, ynoisy, c='r')\n",
    "plt.show()\n",
    "\n"
   ]
  },
  {
   "cell_type": "markdown",
   "metadata": {},
   "source": [
    "### Exercise 3. Predicting House prices\n",
    "\n",
    "In this exercise, we want to apply regression to the [House dataset](https://www.kaggle.com/c/house-prices-advanced-regression-techniques/data). Split the dataset into a training and a test part as before. Then start by learning a ridge regression model with various values of the regularization weight $\\alpha$. Take $alphas = [0.05, 0.1, 0.3, 1, 3, 5, 10, 15, 30, 50, 75]$. \n",
    "\n",
    "<img src=\"housePrice.jpg\" width=400 height=400 />\n",
    "\n",
    "#### Exercise 3.1. Cross validation\n",
    "\n",
    "Start by computing and plotting the error for each of those values using cross validation on the training set. What is the optimal value ?"
   ]
  },
  {
   "cell_type": "code",
   "execution_count": null,
   "metadata": {
    "collapsed": true
   },
   "outputs": [],
   "source": [
    "from sklearn.linear_model import Ridge\n",
    "import numpy as np\n",
    "\n",
    "\n"
   ]
  },
  {
   "cell_type": "markdown",
   "metadata": {},
   "source": [
    "#### Exercise 3.2. Prediction\n",
    "Apply your model to your original validation set and compare the predictions with the actual prices. How accurate is your model?"
   ]
  },
  {
   "cell_type": "code",
   "execution_count": null,
   "metadata": {
    "collapsed": true
   },
   "outputs": [],
   "source": [
    "import matplotlib.pyplot as plt\n",
    "\n"
   ]
  },
  {
   "cell_type": "markdown",
   "metadata": {},
   "source": [
    "### Exercise 4. Iris classification\n",
    "\n",
    "Using the Iris dataset below, extract two classes of flowers and learn a binary linear and then logistic classifi\n"
   ]
  },
  {
   "cell_type": "code",
   "execution_count": null,
   "metadata": {
    "collapsed": true
   },
   "outputs": [],
   "source": [
    "\n",
    "import matplotlib.pyplot as plt\n",
    "from mpl_toolkits.mplot3d import Axes3D\n",
    "from sklearn import datasets\n",
    "from sklearn.decomposition import PCA\n",
    "\n",
    "# import some data to play with\n",
    "iris = datasets.load_iris()\n",
    "X = iris.data[:, :2]  # we only take the first two features.\n",
    "y = iris.target"
   ]
  },
  {
   "cell_type": "markdown",
   "metadata": {
    "collapsed": true
   },
   "source": [
    "### Exercise 5. Neural Networks (part I)\n",
    "\n",
    "Using the neural network module of scikit learn, try to see if you cna improve your prediction model on House prices. \n",
    "\n",
    "#### Exercise 5.1. One hidden layer \n",
    "\n",
    "Start with a single hidden layer and vary the number of hidden units. Plot the error on the validation set for each number of hidden units. "
   ]
  },
  {
   "cell_type": "code",
   "execution_count": null,
   "metadata": {
    "collapsed": true
   },
   "outputs": [],
   "source": [
    "from sklearn.neural_network import MLPClassifier\n",
    "from sklearn.model_selection import train_test_split\n",
    "\n"
   ]
  },
  {
   "cell_type": "markdown",
   "metadata": {},
   "source": [
    "#### Exercise 5.2. Towards deep learning\n",
    "\n",
    "Increase the number of hidden layers. Keep the number of units constant acrss the layers and compare the error on the validation set. "
   ]
  },
  {
   "cell_type": "code",
   "execution_count": null,
   "metadata": {
    "collapsed": true
   },
   "outputs": [],
   "source": [
    "from sklearn.neural_network import MLPClassifier\n",
    "from sklearn.model_selection import train_test_split\n"
   ]
  },
  {
   "cell_type": "markdown",
   "metadata": {},
   "source": [
    "### Exercise 6. First Order Logic (I) "
   ]
  },
  {
   "cell_type": "markdown",
   "metadata": {},
   "source": [
    "#### Exercise 6.1 From English to FOL\n",
    "\n",
    "The law says that it is a crime for an American to sell weapons to hostile nations. The country Nono, an enemy of America, has some missiles, and all of its missiles were sold to it by Colonel West, who is American  \n",
    "\n",
    "__Translate the sentences to FOL__"
   ]
  },
  {
   "cell_type": "code",
   "execution_count": null,
   "metadata": {
    "collapsed": true
   },
   "outputs": [],
   "source": []
  },
  {
   "cell_type": "markdown",
   "metadata": {},
   "source": [
    "#### Exercise 6.2 Forward chaining\n",
    "\n",
    "The problem can be solved through both Forward and Backward chaining. Code each of those approaches below.  "
   ]
  },
  {
   "cell_type": "code",
   "execution_count": null,
   "metadata": {
    "collapsed": true
   },
   "outputs": [],
   "source": [
    "def FOL_ForwardChaining(KB, query):\n",
    "    \n",
    "    \n",
    "    '''Function should implement the Forward chaining Algorithm for FOL. \n",
    "    You can assume that the KB only consists of Horn clauses'''\n",
    "    \n",
    "    \n",
    "    \n",
    "    return False\n",
    "\n",
    "\n",
    "def FOL_BackwardChaining(KB, query):\n",
    "    \n",
    "    \n",
    "    '''Function should implement the Backward chaining Algorithm for FOL. \n",
    "    You can assume that the KB only consists of Horn clauses'''\n",
    "    \n",
    "    \n",
    "    \n",
    "    return False"
   ]
  },
  {
   "cell_type": "markdown",
   "metadata": {},
   "source": [
    "### Exercise 7. First Order Logic (II) "
   ]
  },
  {
   "cell_type": "markdown",
   "metadata": {},
   "source": [
    "#### Exercise 7.1 Resolution Algorithm\n",
    "\n",
    "We now want to implement the more general resolution algorithm. \n",
    "Implement the resolution algorithm below and apply it to the FOL sentences you got from the translation of the English statement above. \n",
    "\n",
    "Don't forget to turn the sentences into CNFs using the following steps:\n",
    "\n",
    "- Eliminate implications\n",
    "- Move the negation inwards \n",
    "- Standardize the variables (For sentences such as $(\\exists x \\;P(x))\\vee (\\exists x\\;Q(x))$), which use the same variable twice, change the name of the variable\n",
    "- Skolemize. Remove existential quantifier by elimination and if needed, introduce skolem functions.\n",
    "- Drop the universal quantifiers\n",
    "- Distribute $\\vee$ over $\\wedge$\n",
    "\n",
    "and recall the resolution rule\n",
    "\n",
    "$$\\frac{\\ell_1\\vee \\ldots \\vee \\ell_k, \\quad m_1\\vee \\ldots \\vee m_n}{\\text{Subst}(\\theta, \\ell_1\\vee\\ldots \\vee \\ell_{i-1}\\vee \\ell_{i+1}\\vee \\ldots \\vee\\ell_{k}\\vee m_1\\vee \\ldots \\vee m_{j-1}\\vee m_{j+1}\\vee m_n)}$$"
   ]
  },
  {
   "cell_type": "code",
   "execution_count": null,
   "metadata": {
    "collapsed": true
   },
   "outputs": [],
   "source": [
    "def ResolutionALgorithm(KB, query):\n",
    "    \n",
    "    '''function should implement the resolution algorithm for First Order Logic'''\n",
    "    \n",
    "    \n",
    "    \n",
    "    return False "
   ]
  }
 ],
 "metadata": {
  "kernelspec": {
   "display_name": "Python 2",
   "language": "python",
   "name": "python2"
  },
  "language_info": {
   "codemirror_mode": {
    "name": "ipython",
    "version": 2
   },
   "file_extension": ".py",
   "mimetype": "text/x-python",
   "name": "python",
   "nbconvert_exporter": "python",
   "pygments_lexer": "ipython2",
   "version": "2.7.13"
  }
 },
 "nbformat": 4,
 "nbformat_minor": 2
}
