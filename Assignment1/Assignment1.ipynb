{
 "cells": [
  {
   "cell_type": "markdown",
   "metadata": {},
   "source": [
    "## Artificial Intelligence, Assignment 1\n",
    "\n",
    "\n",
    "__Given date:__ Monday October 5\n",
    "\n",
    "__Due date:__ Monday October 19\n",
    "\n",
    "Total: 35 + 2 pts \n"
   ]
  },
  {
   "cell_type": "markdown",
   "metadata": {
    "collapsed": true
   },
   "source": [
    "### Question 1. Search Methods and CSP  (10pts).\n",
    "\n",
    "A CSP is a special kind of problem for which the states are defined by the values of a set of variable and the goal test specifies a set of constraints that the values must obey. A solution to a CSP specifies values for all the variables such that the constraints are satisfied. CSPs can be solved by general purpose search algorithms. \n",
    "\n",
    "Each variable $v_i$ in a CSP has a domain $D_i$ which is the set of all possible values the variables might take on. The domain can be discrete or continuous. \n",
    "\n",
    "A CSP can thus be represented as a triple $(Z, D, C)$ where $Z$ is a finite set of variables, $D$ is a function that maps every variable in $Z$ to a set of obejcts of arbitrary type, $D: Z \\mapsto \\text{finite set of objects}$. Finally $C$ is a finite (possibly empty) set of constraints on an arbitrary subset of the variables from $Z$.\n",
    "\n",
    "\n",
    "#### Question 1.1\n",
    "Complete the classes below which can be used to define CSPs. Start by defining the constraints. Then complete the CSP class. "
   ]
  },
  {
   "cell_type": "code",
   "execution_count": null,
   "metadata": {
    "collapsed": true
   },
   "outputs": [],
   "source": [
    "class constraint():\n",
    "\n",
    "    '''Define the constraints'''\n",
    "    \n",
    "    def __init__(self, scope, condition):\n",
    "        \n",
    "        '''The constraints object is defined by a scope and a condition. \n",
    "        The scope will be represented by a tuple encoding a particular subset of the variables. The condition will be represented as a function of those \n",
    "        variables that has to be satisfied.'''\n",
    "    \n",
    "    def display(self):\n",
    "        \n",
    "        '''display the constraint as a string. In this exercise, we \n",
    "        will only assume the four operators less than, not equal, equal, and \n",
    "        greater than'''\n",
    "    \n",
    "\n",
    "class CSP():\n",
    "  \n",
    "    '''The CSP consists of a list of variables, \n",
    "    a dictionnary that maps each variable to its domain \n",
    "    (a list of possible values) and a list of constraints'''\n",
    "    \n",
    "\n",
    "    def __init__(self, domains, constraints):\n",
    "        \n",
    "        '''The initialization specifies the domains and the contraints\n",
    "        Note that the variables are specified in the dictionnary so \n",
    "        there is not need to provide those as an additional argument'''\n",
    "\n",
    "\n",
    "    def consistent(self, assignment):\n",
    "        \n",
    "        '''A call to CSP.consistent should return true if a particular \n",
    "        assignment (i.e choice of values for the variables) satisfies \n",
    "        all the constraints that can be satisfied \n",
    "        (if the assignment does not contain all variables, \n",
    "        only consider the constraints involving those variables). \n",
    "        You might want to use the function meet and meet_at below '''\n",
    "        \n",
    "        \n",
    "        \n",
    "        \n",
    "        return \n",
    "        \n",
    "        \n",
    "        "
   ]
  },
  {
   "cell_type": "markdown",
   "metadata": {},
   "source": [
    "#### Question 1.2 CrossWord (Part I, crosswords)\n",
    "\n",
    "We now want to use our CSP classes to solve the crosswords below. Possible words for this crosswords are \n",
    "{ant, big, bus, car, has, book, buys, hold, lane, year, ginger, search, symbol, syntax}.\n",
    "\n",
    "<img src=\"crossWords.png\" width=\"500\" height=\"600\">\n",
    "\n",
    "__Step 1.__ Start by completing the function 'meets_at' below which returns the function meet (a function which outputs true if the two words w1 and w2 intersect at positions p_1 and p_2)\n",
    "\n",
    "In a first approach we will take the variables as the possible positions for the words and the values. We have 5 possible placement for each word: one_horizontal, one_vertical, two_horizontal, three_vertical, four_horizontal. Notice that the $1$ corresponds to two placements.  \n",
    "\n",
    "__Step 2.__ Define the dictionnary which maps those $5$ positions with the corresponding possible words. I.e the dictionnary should be of the form {'position1': {'word1', 'word2',...}, 'position'}. \n",
    "\n",
    "\n",
    "__Step 3.__ Define the constraints through the object 'constraint' that you defined above by specifying as the scope the set of pairs of overlapping positions and as condition, the corresponding function meet. I.e each you should have a list of contraints of the form\n",
    "\n",
    "$$[Constraint(['position1', 'position2'], meet_at(x1, x2)), ..., Constraint(['position_k', 'position_{k+1}'], meet_at(x', x''))]$$\n",
    "\n",
    "__Step 4.__ Combine the domains and constraint and call the function CSP to create the CSP corresponding to the crosswords.\n",
    "\n"
   ]
  },
  {
   "cell_type": "code",
   "execution_count": null,
   "metadata": {
    "collapsed": true
   },
   "outputs": [],
   "source": [
    "def meet_at(p1,p2):\n",
    "    \n",
    "    '''for any two positions p1 and p2 meet_at should return a \n",
    "    function that '''\n",
    "    \n",
    "    \n",
    "    def meet(word1, word2):\n",
    "        \n",
    "        '''for any two strings word1 and word2, the function meet \n",
    "        should return true if the corresponding two words intersect at the \n",
    "        positions p1 and p2'''\n",
    "        \n",
    "        return True\n",
    "        \n",
    "        \n",
    "        \n",
    "    return meet\n"
   ]
  },
  {
   "cell_type": "markdown",
   "metadata": {},
   "source": [
    "#### Question 1.3. Crossword (Part II, defining the search)\n",
    "\n",
    "We now want to solve the crosswords by using an appropriate search method. Complete the function CSP_SearchSpace() below. The function should return a solution to the CSP. The search operates on a graph whose nodes correspond to dictionnaries of the form {variable1:'value1'} with children {varaible1: 'value1', variable2: 'value21', variable2: 'value22',...} containing the possible assignment of each of the variables. Run through this graph using a DFS until you find an feasible assignment. \n",
    " "
   ]
  },
  {
   "cell_type": "code",
   "execution_count": null,
   "metadata": {
    "collapsed": true
   },
   "outputs": [],
   "source": [
    "\n",
    "\n",
    "def CSP_Search(csp):\n",
    "    \n",
    "    \n",
    "    '''The function should return a valid assignment of the form {x_1:'value1', x2: value2,...}\n",
    "    The start node corresponds to the assignment of a variable, the neighbors of this \n",
    "    first node are the other possible assignments for that same variable. \n",
    "    The children of node {x1: value1} have the form {x1: value1, x2: value2}\n",
    "    \n",
    "    Implement a DFS that stops once a valid assignment satisfying all the constraints \n",
    "    is found\n",
    "    '''\n",
    "\n",
    "    \n",
    "    \n",
    "    \n",
    "    \n",
    "    \n",
    "    return \n",
    "    \n",
    "        "
   ]
  },
  {
   "cell_type": "markdown",
   "metadata": {},
   "source": [
    "### Question 2. Logical reasoning (15pts)\n",
    "\n"
   ]
  },
  {
   "cell_type": "markdown",
   "metadata": {},
   "source": [
    "\n",
    "<img src=\"masterMind.jpg\" width=\"500\" height=\"600\">\n"
   ]
  },
  {
   "cell_type": "markdown",
   "metadata": {},
   "source": [
    "\n",
    "Mastermind is an example of a game that can be solved through propositional logic. In this game, a code setter sets a secret code consisting of 4 pegs drawn from a supply of colored pegs with the total number of pegs being $6$ (For this particular exercise, we will assume that this number is 4). The solver makes an initial guess  (consisting of $4$ pegs from the same supply of colored pegs). In response to the initial guess made by the solver, the code settter gives scores based on the following criteria:\n",
    "\n",
    "   - How many pegs are of the right color and in the right place (this number is represented by a number of red pegs displayed to the solver)\n",
    "   \n",
    "   \n",
    "   - How many additional pegs are of the right color but are in the wrong place. This number is represented by a number of white pegs  that are given by the code setter to the solver \n",
    "   \n",
    "   \n",
    "#### Question 2.1.\n",
    "\n",
    "Start by completing the class Knowledge Base and the function entails below. The class should return a KnowledgeBase. The function should return true if a particular query is entailed by the particular KB."
   ]
  },
  {
   "cell_type": "code",
   "execution_count": null,
   "metadata": {
    "collapsed": true
   },
   "outputs": [],
   "source": [
    "\n",
    "class knowledgeBase():\n",
    "    \n",
    "    '''encodes a propositional logic KB for the MasterMind game. \n",
    "    The KB should contain variables x_{00}, x_{01}, x_{02}, x_{03}, \n",
    "    ,... x_{30}, x_{31},..x_{33} which will be used to indicate whether a \n",
    "    number from 0 to 1 is located at position x (True) or Not'''\n",
    "    \n",
    "    def __init__(self, sentence=None):\n",
    "        \n",
    "        if sentence:\n",
    "            self.tell(sentence)\n",
    "            \n",
    "        '''complete self.clauses by adding all the obvious sentences \n",
    "        such as no two colors can be at the same position. \n",
    "        At first, to check your implementation, you can also assume \n",
    "        all 4 colors should be different. Encode those sentences as CNF'''\n",
    "        \n",
    "        self.clauses = [] # complete with your code\n",
    "        \n",
    "        \n",
    "            \n",
    "    def tell(self, sentence):\n",
    "    \n",
    "    '''function should be used to add sentences to the KB. \n",
    "    Dont forget to write the sentences as CNF''' \n",
    "    \n",
    "    def ask_if_true(self, query):\n",
    "    \n",
    "    '''Returns true if the query is entailed by the KB'''\n",
    "    \n",
    "    \n",
    "        if entails(self.clauses, query): \n",
    "            return true \n",
    "        \n",
    "        else: \n",
    "        \n",
    "            return false\n",
    "    \n",
    "    \n",
    "def entails(kb, query):\n",
    "    \n",
    "    '''should implement resolution algorithm (CNF + conjunctive normal form)'''\n",
    "    \n",
    "    \n",
    "    if # complete \n",
    "    \n",
    "        return True \n",
    "    else \n",
    "    \n",
    "        return None"
   ]
  },
  {
   "cell_type": "markdown",
   "metadata": {},
   "source": [
    "#### Question 2.2.\n",
    "\n",
    "Once the Knowledge base has been defined, complete the class MasterMind below. This class should contain the following components:\n",
    "\n",
    "- An initialization function which sets up the KB and defines the true (unknown to the user) combination\n",
    "\n",
    "- A function step. This function encodes the agent's steps. updating the combination based on (i) a check of the KB (if any of the colors 0 to 3 is at the right position, that color should not be changed) and a switch of the incorrect numbers. This switch can be defined in several ways, either you follow a DFS type approach (if there are four distinct colors, a step can be encoded by switching two of the colors, if there can be multiple colors, a move can be defined by replacing one of the colors at random) or you suggest a new combination at random."
   ]
  },
  {
   "cell_type": "code",
   "execution_count": null,
   "metadata": {
    "collapsed": true
   },
   "outputs": [],
   "source": [
    "    \n",
    "    \n",
    "\n",
    "class Mastermind():\n",
    "    \n",
    "    \n",
    "    \n",
    "    \n",
    "    def __init__(self):\n",
    "        \n",
    "        '''The function should initialize the KB and generate \n",
    "        the initial combination '''\n",
    "        \n",
    "        self.KB = knowledgeBase()\n",
    "        self.trueCombination = np.random.shuffle(np.range(4))\n",
    "\n",
    "\n",
    "        \n",
    "        \n",
    "    def step():\n",
    "        \n",
    "        '''Complete the function. The function should contain three parts.\n",
    "        \n",
    "        I) Check if any of the literal num0_pos0, num0_pos1, .. num0_pos3 , num1_pos0,.. \n",
    "        are entailed by the KB. If so you should only consider the moves that do not affect those literals\n",
    "        \n",
    "        2) Generating a new combination\n",
    "        \n",
    "        3) Get red and white dots and update the KB\n",
    "        \n",
    "        The function should return True if the code has been \n",
    "        succesfully broken. This can be done through the function \n",
    "        compareCombinationToTrueCombination below'''\n",
    "        \n",
    "        \n",
    "        \n",
    "        \n",
    "        return newCombination, success\n",
    "        \n",
    "        \n",
    "    \n",
    "    def compareCombinationToTrueCombination(self):\n",
    "        \n",
    "        '''The function should return a number of red pegs\n",
    "        (corresponding to the numbers that are in the right position) \n",
    "        and white pegs corresponding to the numbers that \n",
    "        are correctly selected but not correctly positioned. \n",
    "        When N_max is set to 4. The total red+whites always equals 4'''\n",
    "        \n",
    "        \n",
    "        \n",
    "        \n",
    "        numWhites = 0\n",
    "        numReds = 0\n",
    "        \n",
    "        return [numWhites, numReds], sucess \n",
    "        "
   ]
  },
  {
   "cell_type": "markdown",
   "metadata": {},
   "source": [
    "### Question 3. First Order Logic (10pts)\n",
    "\n",
    "As a last exercise, we consider the following sentences :\n",
    "\n",
    "- Everyone who attends all AI classes will be hired by some tech company\n",
    "- Anyone who parties all night will be hired by no tech company \n",
    "- Jack attended all AI classes\n",
    "- Either Jack or Jessica threw a party last night whose theme was the Eighties\n",
    "\n",
    "We want to answer the following query \n",
    "\n",
    "- Did Jessica throw the party ?\n",
    "\n",
    "\n",
    "#### Question 3.1. \n",
    "\n",
    "Start by translating the original sentences and the negated query to appropriate first order logic propositions. Put your sentences below (you can use lateX or a picture of piece of paper that you insert with an html line)"
   ]
  },
  {
   "cell_type": "markdown",
   "metadata": {
    "collapsed": true
   },
   "source": [
    " - Sentence 1:  Everyone who attends all AI classes will be hired by some tech company\n",
    " \n",
    " __Your Solution:__ \n",
    " \n",
    " - Sentence 2: Anyone who parties all night will be hired by no tech company \n",
    " \n",
    " __Your Solution:__ \n",
    "\n",
    "- Sentence 3: Jack attended all AI classes\n",
    "\n",
    " __Your Solution:__ \n",
    "\n",
    "- Sentence 4: Either Jack or Jessica threw a party last night whose theme was the Eighties\n",
    "\n",
    " __Your Solution:__ \n",
    "\n",
    "- Negative query: Jessica did not throw the party\n",
    "\n",
    " __Your Solution:__ \n"
   ]
  },
  {
   "cell_type": "markdown",
   "metadata": {},
   "source": [
    "#### Question 3.2. \n",
    "\n",
    "Apply the conversion procedure to convert each sentence to CNF. You can do it by hand. Put your answers below. "
   ]
  },
  {
   "cell_type": "markdown",
   "metadata": {
    "collapsed": true
   },
   "source": [
    "- Sentence 1:  Everyone who attends all AI classes will be hired by some tech company\n",
    " \n",
    " __Your Solution:__ \n",
    " \n",
    "- Sentence 2: Anyone who parties all night will be hired by no tech company \n",
    " \n",
    " __Your Solution:__ \n",
    "\n",
    "- Sentence 3: Jack attended all AI classes\n",
    "\n",
    " __Your Solution:__ \n",
    "\n",
    "- Sentence 4: Either Jack or Jessica threw a party last night whose theme was the Eighties\n",
    "\n",
    " __Your Solution:__ \n",
    "\n",
    "- Negative query: Jessica did not throw the party\n",
    "\n",
    " __Your Solution:__ \n"
   ]
  },
  {
   "cell_type": "markdown",
   "metadata": {},
   "source": [
    "#### Question 3.3. \n",
    "\n",
    "Code and use the resolution algorithm to answer the query."
   ]
  },
  {
   "cell_type": "code",
   "execution_count": null,
   "metadata": {
    "collapsed": true
   },
   "outputs": [],
   "source": [
    "def resolutionAlgorithm(FOL_KB, query):\n",
    "    \n",
    "    \n",
    "    '''the function should code a resolution algorithm for a \n",
    "    First Order Logic KB. It should return true if the query is entailed by \n",
    "    the KB. The query is assumed to be in CNF. The KB can be defined as a \n",
    "    collection/list of FOL sentences'''\n",
    "    \n",
    "    \n",
    "    \n",
    "    \n",
    "    return valueOfQuery\n",
    "\n",
    "\n"
   ]
  },
  {
   "cell_type": "markdown",
   "metadata": {},
   "source": [
    "#### Bonus (2pts) \n",
    "\n",
    "Display the resolution tree (highlighting the clauses which are connected through the resolution rule)"
   ]
  }
 ],
 "metadata": {
  "kernelspec": {
   "display_name": "Python 2",
   "language": "python",
   "name": "python2"
  },
  "language_info": {
   "codemirror_mode": {
    "name": "ipython",
    "version": 2
   },
   "file_extension": ".py",
   "mimetype": "text/x-python",
   "name": "python",
   "nbconvert_exporter": "python",
   "pygments_lexer": "ipython2",
   "version": "2.7.13"
  }
 },
 "nbformat": 4,
 "nbformat_minor": 2
}
